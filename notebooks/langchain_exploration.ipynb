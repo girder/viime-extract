{
 "cells": [
  {
   "cell_type": "code",
   "execution_count": 15,
   "id": "319f5eb9-3971-441f-82aa-116cea20430f",
   "metadata": {},
   "outputs": [
    {
     "name": "stdout",
     "output_type": "stream",
     "text": [
      "\n",
      "\u001b[1m[\u001b[0m\u001b[34;49mnotice\u001b[0m\u001b[1;39;49m]\u001b[0m\u001b[39;49m A new release of pip is available: \u001b[0m\u001b[31;49m24.2\u001b[0m\u001b[39;49m -> \u001b[0m\u001b[32;49m24.3.1\u001b[0m\n",
      "\u001b[1m[\u001b[0m\u001b[34;49mnotice\u001b[0m\u001b[1;39;49m]\u001b[0m\u001b[39;49m To update, run: \u001b[0m\u001b[32;49mpip install --upgrade pip\u001b[0m\n",
      "Note: you may need to restart the kernel to use updated packages.\n"
     ]
    }
   ],
   "source": [
    "%pip install -qU tiktoken pypdf openai langchain langchain-text-splitters langchain-openai langchain-core python-dotenv pydantic langchain_community"
   ]
  },
  {
   "cell_type": "code",
   "execution_count": 34,
   "id": "4a95b19b-ff73-4f20-a874-e0842eb9131c",
   "metadata": {},
   "outputs": [],
   "source": [
    "import itertools\n",
    "import json\n",
    "from pprint import pprint\n",
    "from pathlib import Path\n",
    "import sys\n",
    "\n",
    "import tiktoken\n",
    "from pydantic import BaseModel, Field\n",
    "from openai import OpenAI\n",
    "import dotenv\n",
    "from langchain_community.document_loaders import PyPDFLoader\n",
    "from langchain_openai import ChatOpenAI\n",
    "from langchain_core.prompts import ChatPromptTemplate\n",
    "from langchain_text_splitters import RecursiveCharacterTextSplitter\n",
    "from langchain_core.documents.base import Document\n",
    "\n",
    "sys.path.append('..')\n",
    "from viime_extract.schema import ArticleMeta, ArticleKeyWords, Metabolite"
   ]
  },
  {
   "cell_type": "code",
   "execution_count": 2,
   "id": "4368b6b6-4be3-4076-9353-d7c46f1ba5e2",
   "metadata": {},
   "outputs": [],
   "source": [
    "LLM_MODEL_NAME = 'gpt-4o-2024-08-06'\n",
    "PDF_DIR = Path('../data/PubMed LongCovid and Metabolomics Results')"
   ]
  },
  {
   "cell_type": "code",
   "execution_count": 37,
   "id": "5b87f2b5-ef10-4536-873f-e8c9362051cd",
   "metadata": {},
   "outputs": [],
   "source": [
    "dotenv.load_dotenv()\n",
    "LLM = ChatOpenAI(model=LLM_MODEL_NAME, temperature=0)"
   ]
  },
  {
   "cell_type": "code",
   "execution_count": 18,
   "id": "90e11497-c13a-4fdb-82d0-5b9018562b97",
   "metadata": {},
   "outputs": [],
   "source": [
    "def get_pdf_pages(pdf_file: Path):\n",
    "    return list(PyPDFLoader(pdf_file).lazy_load())\n",
    "\n",
    "def extract_article_metadata(pages: list[Document], model=LLM):\n",
    "    # assumption: first page contains all of the metadata\n",
    "    first_page = pages[0].page_content\n",
    "\n",
    "    template = ChatPromptTemplate([\n",
    "        ('system', '''You are an expert in extracting structured information from medical journal articles.\n",
    "Present the extracted information in a clear, structured format. Be comprehensive and extract every single\n",
    "mentioned entity. You will be evaluated on the quality and completeness of the extracted information.'''),\n",
    "        ('user', 'Please extract the title, authors, journal title, publication year, journal volume, DOI ID, and pubmed ID from the following journal article:\\n\\n{article_contents}'),\n",
    "    ])\n",
    "    prompt = template.invoke({'article_contents': first_page})\n",
    "    return model.with_structured_output(ArticleMeta).invoke(prompt)\n",
    "\n",
    "def extract_article_keywords(pages: list[Document], model=LLM):\n",
    "    template = ChatPromptTemplate([\n",
    "        ('system', '''You are an expert in extracting structured information from medical journal articles.\n",
    "Present the extracted information in a clear, structured format. Be comprehensive and extract every single\n",
    "mentioned entity. You will be evaluated on the quality and completeness of the extracted information.\n",
    "\n",
    "If you are not confident in the identifier for an entity, you can specify it as \"unknown\". It is better\n",
    "to include an entity with an \"unknown\" identified than to omit it entirely.'''),\n",
    "        ('user', 'Please extract the metabolites, proteins, genes, pathways, drugs, and diseases mentioned in the following journal article:\\n\\n{article_contents}'),\n",
    "    ])\n",
    "\n",
    "    splitter = RecursiveCharacterTextSplitter.from_tiktoken_encoder(\n",
    "        model_name=LLM_MODEL_NAME,\n",
    "        chunk_size=1024,\n",
    "        chunk_overlap=128,\n",
    "    )\n",
    "\n",
    "    keywords = ArticleKeyWords()\n",
    "\n",
    "    for text_chunk in splitter.split_documents(pages):\n",
    "        prompt = template.invoke({'article_contents': text_chunk})\n",
    "        response = model.with_structured_output(ArticleKeyWords).invoke(prompt)\n",
    "        keywords = keywords.merge(response)\n",
    "\n",
    "    return keywords"
   ]
  },
  {
   "cell_type": "code",
   "execution_count": 5,
   "id": "c28842a8-4836-4928-9060-88bebda36a39",
   "metadata": {},
   "outputs": [],
   "source": [
    "LC_81_pages = get_pdf_pages(PDF_DIR / 'LC_81.pdf')"
   ]
  },
  {
   "cell_type": "code",
   "execution_count": 44,
   "id": "11aa8faa-7955-43f2-a2ca-79f4aebdb7ee",
   "metadata": {},
   "outputs": [],
   "source": [
    "article_meta = extract_article_metadata(LC_81_pages, model=LLM)"
   ]
  },
  {
   "cell_type": "code",
   "execution_count": 8,
   "id": "74aa1995-ebea-414c-9730-6a08732750b9",
   "metadata": {},
   "outputs": [],
   "source": [
    "article_keywords = extract_article_keywords(LC_81_pages, model=LLM)"
   ]
  },
  {
   "cell_type": "code",
   "execution_count": 33,
   "id": "7c6e6f36-f3e5-43f4-a787-b15595dca879",
   "metadata": {},
   "outputs": [
    {
     "data": {
      "text/plain": [
       "[Metabolite(name='triacylglycerols', chebi_id=None),\n",
       " Metabolite(name='phosphatidylcholines', chebi_id=None),\n",
       " Metabolite(name='prostaglandin E2', chebi_id=None),\n",
       " Metabolite(name='arginine', chebi_id='CHEBI:29016'),\n",
       " Metabolite(name='betain', chebi_id='CHEBI:17750'),\n",
       " Metabolite(name='adenosine', chebi_id='CHEBI:16335'),\n",
       " Metabolite(name='total bilirubin', chebi_id='CHEBI:17587'),\n",
       " Metabolite(name='direct bilirubin', chebi_id='CHEBI:17012'),\n",
       " Metabolite(name='albumin', chebi_id='CHEBI:16199'),\n",
       " Metabolite(name='globulin', chebi_id='CHEBI:36080'),\n",
       " Metabolite(name='Cys-C', chebi_id='unknown'),\n",
       " Metabolite(name='LDH', chebi_id=None),\n",
       " Metabolite(name='CRP', chebi_id=None),\n",
       " Metabolite(name='TBIL', chebi_id=None),\n",
       " Metabolite(name='DBIL', chebi_id=None),\n",
       " Metabolite(name='ALT', chebi_id=None),\n",
       " Metabolite(name='AST', chebi_id=None),\n",
       " Metabolite(name='ALP', chebi_id=None),\n",
       " Metabolite(name='GGT', chebi_id=None),\n",
       " Metabolite(name='TP', chebi_id=None),\n",
       " Metabolite(name='Albumin', chebi_id=None),\n",
       " Metabolite(name='Globin', chebi_id=None),\n",
       " Metabolite(name='Creatinine', chebi_id=None),\n",
       " Metabolite(name='BUN', chebi_id=None),\n",
       " Metabolite(name='Cys-C', chebi_id=None),\n",
       " Metabolite(name='D-Dimer', chebi_id=None),\n",
       " Metabolite(name='FIB', chebi_id=None),\n",
       " Metabolite(name='albumin', chebi_id='unknown'),\n",
       " Metabolite(name='globin', chebi_id='unknown'),\n",
       " Metabolite(name='alkaline phosphatase', chebi_id='unknown'),\n",
       " Metabolite(name='alanine aminotransferase', chebi_id='unknown'),\n",
       " Metabolite(name='aspartate amino transferase', chebi_id='unknown'),\n",
       " Metabolite(name='blood urea nitrogen', chebi_id='unknown'),\n",
       " Metabolite(name='C-reactive protein', chebi_id='unknown'),\n",
       " Metabolite(name='cystain C', chebi_id='unknown'),\n",
       " Metabolite(name='direct bilirubin', chebi_id='unknown'),\n",
       " Metabolite(name='fibrinogen', chebi_id='unknown'),\n",
       " Metabolite(name='γ-glutamyl transpeptidase', chebi_id='unknown'),\n",
       " Metabolite(name='lactate dehydrogenase', chebi_id='unknown'),\n",
       " Metabolite(name='total bilirubin', chebi_id='unknown'),\n",
       " Metabolite(name='total protein', chebi_id='unknown'),\n",
       " Metabolite(name='metabolites', chebi_id=None),\n",
       " Metabolite(name='betaine', chebi_id='unknown'),\n",
       " Metabolite(name='purine', chebi_id='unknown'),\n",
       " Metabolite(name='stearidonic acid', chebi_id='unknown'),\n",
       " Metabolite(name='vitamin D3', chebi_id='unknown'),\n",
       " Metabolite(name='guanosine', chebi_id='unknown'),\n",
       " Metabolite(name='phosphatidylcholines', chebi_id='unknown'),\n",
       " Metabolite(name='glycerolipids', chebi_id='unknown'),\n",
       " Metabolite(name='acylcarnitine', chebi_id='unknown'),\n",
       " Metabolite(name='organic acid', chebi_id='unknown'),\n",
       " Metabolite(name='sphingomyelin', chebi_id='unknown'),\n",
       " Metabolite(name='nitric oxide', chebi_id='unknown'),\n",
       " Metabolite(name='AC', chebi_id=None),\n",
       " Metabolite(name='OA', chebi_id=None),\n",
       " Metabolite(name='SM', chebi_id=None),\n",
       " Metabolite(name='amino acid (AA)', chebi_id=None),\n",
       " Metabolite(name='fatty acid (FA)', chebi_id=None),\n",
       " Metabolite(name='triacylglycerol (TG)', chebi_id=None),\n",
       " Metabolite(name='short-chain AC', chebi_id=None),\n",
       " Metabolite(name='lysine', chebi_id=None),\n",
       " Metabolite(name='taurine', chebi_id=None),\n",
       " Metabolite(name='hypotaurine', chebi_id=None),\n",
       " Metabolite(name='alpha-linolenic acid', chebi_id=None),\n",
       " Metabolite(name='glycerophospholipid', chebi_id=None),\n",
       " Metabolite(name='epoxyeicosatrienoic acid', chebi_id=None),\n",
       " Metabolite(name='linolenic acid', chebi_id=None),\n",
       " Metabolite(name='palmitoleic acid', chebi_id=None),\n",
       " Metabolite(name='acetyltyrosine', chebi_id=None),\n",
       " Metabolite(name='acetylleucine', chebi_id=None),\n",
       " Metabolite(name='methylhistidine', chebi_id=None),\n",
       " Metabolite(name='carnitine C5:1', chebi_id=None),\n",
       " Metabolite(name='glycocholic acid', chebi_id=None),\n",
       " Metabolite(name='glycochenodeoxycholate', chebi_id=None),\n",
       " Metabolite(name='glycinedeoxycholate', chebi_id=None),\n",
       " Metabolite(name='prostaglandin E2 (PGE2)', chebi_id=None),\n",
       " Metabolite(name='prostaglandin E3 (PGE3)', chebi_id=None),\n",
       " Metabolite(name='kynurenine', chebi_id=None),\n",
       " Metabolite(name='vitamin D3', chebi_id=None),\n",
       " Metabolite(name='guanosine', chebi_id=None),\n",
       " Metabolite(name='stearidonic acid', chebi_id=None),\n",
       " Metabolite(name='taurocholic acid', chebi_id=None),\n",
       " Metabolite(name='guanosine', chebi_id=None),\n",
       " Metabolite(name='trihydroxythrombadienoate', chebi_id=None),\n",
       " Metabolite(name='hydroxymethylacetophenone', chebi_id=None),\n",
       " Metabolite(name='citrulline', chebi_id=None),\n",
       " Metabolite(name='TG (triglycerides)', chebi_id=None),\n",
       " Metabolite(name='PC (phosphatidylcholine)', chebi_id=None),\n",
       " Metabolite(name='Prostaglandin E2 (PGE2)', chebi_id='unknown'),\n",
       " Metabolite(name='Arginine', chebi_id='unknown'),\n",
       " Metabolite(name='Betaine', chebi_id='unknown'),\n",
       " Metabolite(name='betaine', chebi_id='unknown'),\n",
       " Metabolite(name='adenosine', chebi_id='unknown'),\n",
       " Metabolite(name='methylhistidine', chebi_id='unknown'),\n",
       " Metabolite(name='acetylleucine', chebi_id='unknown'),\n",
       " Metabolite(name='acetyltyrosine', chebi_id='unknown'),\n",
       " Metabolite(name='acetyl-beta-alanine', chebi_id='unknown'),\n",
       " Metabolite(name='lysine', chebi_id='unknown'),\n",
       " Metabolite(name='taurine', chebi_id='unknown'),\n",
       " Metabolite(name='hypotaurine', chebi_id='unknown'),\n",
       " Metabolite(name='alpha-linolenic acid', chebi_id='unknown'),\n",
       " Metabolite(name='glycerophospholipid', chebi_id='unknown'),\n",
       " Metabolite(name='arginine', chebi_id='unknown'),\n",
       " Metabolite(name='proline', chebi_id='unknown'),\n",
       " Metabolite(name='Prostaglandin E2', chebi_id='unknown'),\n",
       " Metabolite(name='L-arginine', chebi_id='unknown'),\n",
       " Metabolite(name='L-arginine', chebi_id='CHEBI:32682'),\n",
       " Metabolite(name='Betaine', chebi_id='CHEBI:17750'),\n",
       " Metabolite(name='Choline', chebi_id='CHEBI:15354'),\n",
       " Metabolite(name='Homocysteine', chebi_id='CHEBI:17552'),\n",
       " Metabolite(name='Adenosine', chebi_id='CHEBI:16335'),\n",
       " Metabolite(name='Adenosine', chebi_id='CHEBI:16335')]"
      ]
     },
     "execution_count": 33,
     "metadata": {},
     "output_type": "execute_result"
    }
   ],
   "source": [
    "article_keywords.mentioned_metabolites"
   ]
  },
  {
   "cell_type": "code",
   "execution_count": 15,
   "id": "dd787380-a13b-4b01-9690-ce27babd97f2",
   "metadata": {},
   "outputs": [],
   "source": [
    "keywords_no_unknown = extract_article_keywords(LC_81_pages, model=LLM)"
   ]
  },
  {
   "cell_type": "code",
   "execution_count": 29,
   "id": "be5253a7-0e59-4b54-a8a2-0f9efba2b9b5",
   "metadata": {},
   "outputs": [
    {
     "data": {
      "text/plain": [
       "64"
      ]
     },
     "execution_count": 29,
     "metadata": {},
     "output_type": "execute_result"
    }
   ],
   "source": [
    "len(article_keywords.mentioned_diseases)"
   ]
  },
  {
   "cell_type": "code",
   "execution_count": null,
   "id": "fdc3149e-e840-4f46-bf19-121c01ec7501",
   "metadata": {},
   "outputs": [],
   "source": []
  }
 ],
 "metadata": {
  "kernelspec": {
   "display_name": "Python 3 (ipykernel)",
   "language": "python",
   "name": "python3"
  },
  "language_info": {
   "codemirror_mode": {
    "name": "ipython",
    "version": 3
   },
   "file_extension": ".py",
   "mimetype": "text/x-python",
   "name": "python",
   "nbconvert_exporter": "python",
   "pygments_lexer": "ipython3",
   "version": "3.13.0"
  }
 },
 "nbformat": 4,
 "nbformat_minor": 5
}
