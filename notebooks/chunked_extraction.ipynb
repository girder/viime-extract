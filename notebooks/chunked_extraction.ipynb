{
 "cells": [
  {
   "cell_type": "code",
   "execution_count": 78,
   "id": "4a95b19b-ff73-4f20-a874-e0842eb9131c",
   "metadata": {},
   "outputs": [],
   "source": [
    "from pydantic import BaseModel, Field\n",
    "from openai import OpenAI\n",
    "import dotenv\n",
    "import itertools\n",
    "import json\n",
    "from pprint import pprint\n",
    "\n",
    "from schema import Article, ArticleFragment, Metabolite"
   ]
  },
  {
   "cell_type": "code",
   "execution_count": 3,
   "id": "5b87f2b5-ef10-4536-873f-e8c9362051cd",
   "metadata": {},
   "outputs": [],
   "source": [
    "dotenv.load_dotenv()\n",
    "client = OpenAI()"
   ]
  },
  {
   "cell_type": "code",
   "execution_count": 4,
   "id": "6d2243d3-30c9-4ecd-b4a8-3e2a1ce840e1",
   "metadata": {},
   "outputs": [],
   "source": [
    "extraction_message = \"\"\"You are an expert in extracting structured information from medical journal articles.\n",
    "Identify the following key details: the title, authors, and any mentioned metabolites and pathways.\n",
    "Present the extracted information in a clear, structured format. Be comprehensive and extract every single\n",
    "mentioned entity. You will be evaluated on the quality and completeness of the extracted information.\n",
    "\n",
    "If you are not confident in the identifier for an entity, you can specify it as \"unknown\". It is better\n",
    "to include an entity with an \"unknown\" identified than to omit it entirely.\"\"\"\n",
    "\n",
    "consolidation_message = \"\"\"You are a helpful assistant who is an expert in metabolites and metabolics. \"\"\""
   ]
  },
  {
   "cell_type": "code",
   "execution_count": 89,
   "id": "acaab767-280d-4ff3-8cbd-7d44fe5ed14c",
   "metadata": {},
   "outputs": [],
   "source": [
    "def is_page_marker(line: str) -> bool:\n",
    "    try:\n",
    "        data = json.loads(line.replace(\"'\", '\"'))\n",
    "        return isinstance(data, dict) and 'page' in data and 'source' in data\n",
    "    except json.decoder.JSONDecodeError:\n",
    "        return False\n",
    "\n",
    "def chunk_document_by_page(document):\n",
    "    '''Chunk the document by page'''\n",
    "    linegen = iter(document.strip().split('\\n'))\n",
    "    \n",
    "    # skip lines until we get to the first page marker\n",
    "    for line in linegen:\n",
    "        if is_page_marker(line):\n",
    "            break\n",
    "\n",
    "    page = []\n",
    "    for line in linegen:\n",
    "        if not line.strip():\n",
    "            continue\n",
    "        if is_page_marker(line):\n",
    "            yield '\\n'.join(page)\n",
    "            page = []\n",
    "        else:\n",
    "            page.append(line)\n",
    "\n",
    "    if page:\n",
    "        yield '\\n'.join(page)\n",
    "\n",
    "def chunk_halfpages(pages):\n",
    "    for page in pages:\n",
    "        lines = page.strip().split('\\n')\n",
    "        mid = len(lines) // 2\n",
    "        yield '\\n'.join(lines[:mid])\n",
    "        yield '\\n'.join(lines[mid:])\n",
    "\n",
    "def iter_halfpages_with_overlap(halfpages):\n",
    "    '''Chunks a document with an overlap of 1 line.\n",
    "\n",
    "    The overlap helps identify multi-word metabolite names that get cut off at a line break.\n",
    "    '''\n",
    "    idx = 0\n",
    "    while idx < len(halfpages):\n",
    "        halfpage = halfpages[idx]\n",
    "        prefix = ''\n",
    "        suffix = ''\n",
    "        if idx > 0:\n",
    "            prefix = halfpages[idx - 1].split('\\n')[-1]\n",
    "        if idx < len(halfpages) - 1:\n",
    "            suffix = halfpages[idx + 1].split('\\n')[-1]\n",
    "        \n",
    "        yield f'{prefix}\\n{halfpage}\\n{suffix}'\n",
    "        idx += 1\n",
    "\n",
    "def ask_openai(document, response_class, model=\"gpt-4o-2024-08-06\", temperature=0, system_message=''):\n",
    "    response = client.beta.chat.completions.parse(\n",
    "        model=model,\n",
    "        temperature=temperature,\n",
    "        messages=[\n",
    "            {\"role\": \"system\", \"content\": system_message},\n",
    "            {\"role\": \"user\", \"content\": document},\n",
    "        ],\n",
    "        response_format=response_class,\n",
    "    )\n",
    "    return json.loads(response.choices[0].message.content)\n",
    "\n",
    "def chunk_and_extract(document, model=\"gpt-4o-2024-08-06\", temperature=0, system_message=extraction_message):\n",
    "    pages = list(chunk_document_by_page(document))\n",
    "    halfpages = list(chunk_halfpages(pages))\n",
    "    responses = []\n",
    "\n",
    "    if len(pages) == 0:\n",
    "        return responses\n",
    "\n",
    "    # get the article authors, title, etc.\n",
    "    responses.append(\n",
    "        ask_openai(pages[0], Article, model=model, temperature=temperature, system_message=system_message)\n",
    "    )\n",
    "\n",
    "    # iter by overlapped half page\n",
    "    for chunk in iter_halfpages_with_overlap(halfpages):\n",
    "        responses.append(\n",
    "            ask_openai(chunk, ArticleFragment, model=model, temperature=temperature, system_message=system_message)\n",
    "        )\n",
    "    return responses\n",
    "\n",
    "class DedupResponse(BaseModel):\n",
    "    metabolites: list[Metabolite] = Field(..., title=\"Metabolites\", description=\"A list of metabolites\")\n",
    "\n",
    "    @property\n",
    "    def metabolite_names(self):\n",
    "        return [m.name for m in self.metabolites]\n",
    "\n",
    "def remove_duplicates(item_list, model=\"gpt-4o-2024-08-06\", temperature=0, system_message=consolidation_message):\n",
    "    content = f'Please remove all duplicate metabolites from the following list:\\n{\"\\n\".join(item_list)}\\n'\n",
    "    response = client.beta.chat.completions.parse(\n",
    "        model=model,\n",
    "        temperature=temperature,\n",
    "        messages=[\n",
    "            {\"role\": \"system\", \"content\": system_message},\n",
    "            {\"role\": \"user\", \"content\": content},\n",
    "        ],\n",
    "        response_format=DedupResponse,\n",
    "    )\n",
    "    return response"
   ]
  },
  {
   "cell_type": "markdown",
   "id": "6c8703ed-22d8-4eb2-be28-3e6dee3dd207",
   "metadata": {},
   "source": [
    "## Extract Data"
   ]
  },
  {
   "cell_type": "code",
   "execution_count": 97,
   "id": "b4568b13-7803-4797-8468-e098f25d08d2",
   "metadata": {},
   "outputs": [],
   "source": [
    "with open('../data/MolGenetMetab_136_306_2022.txt', 'r') as file:\n",
    "    contents = file.read()\n",
    "\n",
    "responses = chunk_and_extract(contents)"
   ]
  },
  {
   "cell_type": "code",
   "execution_count": 98,
   "id": "42774b4e-29e1-46eb-b237-2e3a6db189e1",
   "metadata": {},
   "outputs": [
    {
     "name": "stdout",
     "output_type": "stream",
     "text": [
      "19\n"
     ]
    }
   ],
   "source": [
    "print(len(responses))"
   ]
  },
  {
   "cell_type": "markdown",
   "id": "b1a84901-004a-4800-b279-efb74c744123",
   "metadata": {},
   "source": [
    "## Remove Duplicate Metabolites"
   ]
  },
  {
   "cell_type": "code",
   "execution_count": 82,
   "id": "7cc438e3-a015-46a2-9e9f-057eff8e30ae",
   "metadata": {},
   "outputs": [
    {
     "name": "stderr",
     "output_type": "stream",
     "text": [
      "/var/folders/jg/0t5c1xb50dz652thhvddz6jh5w38nh/T/ipykernel_9076/4085826527.py:3: PydanticDeprecatedSince20: The `parse_obj` method is deprecated; use `model_validate` instead. Deprecated in Pydantic V2.0 to be removed in V3.0. See Pydantic V2 Migration Guide at https://errors.pydantic.dev/2.10/migration/\n",
      "  fragment = ArticleFragment.parse_obj(resp)\n"
     ]
    }
   ],
   "source": [
    "all_metabolites_set = set()\n",
    "for resp in responses:\n",
    "    fragment = ArticleFragment.parse_obj(resp)\n",
    "    for metabolite in fragment.mentioned_metabolites:\n",
    "        all_metabolites_set.add(metabolite.name)\n",
    "all_metabolites = list(all_metabolites_set)"
   ]
  },
  {
   "cell_type": "code",
   "execution_count": 83,
   "id": "f874aa62-c2a0-4795-b808-ca3b95610b0d",
   "metadata": {
    "scrolled": true
   },
   "outputs": [
    {
     "name": "stdout",
     "output_type": "stream",
     "text": [
      "10-formyl-THF\n",
      "5,10-methylene THF\n",
      "5,10-methylene-THF\n",
      "acetate\n",
      "Apolipoprotein A-I\n",
      "arginine\n",
      "ATP\n",
      "betaine\n",
      "betaine aldehyde\n",
      "carnitine\n",
      "carnitine (C0)\n",
      "cholesterol ester\n",
      "cholesterol ester 20:0\n",
      "cholesterol ester, CE(20:0)\n",
      "choline\n",
      "creatine\n",
      "dihydroceramide\n",
      "dimethylglycine\n",
      "dodecanedioc acid (DiCA.12.0)\n",
      "formate\n",
      "frataxin\n",
      "glucose\n",
      "glutamate\n",
      "glycine\n",
      "histamine\n",
      "histidine\n",
      "homocysteine\n",
      "hydroxypropionylcarnitine (C3.OH)\n",
      "hypoxanthine\n",
      "hypoxanthine (HXan)\n",
      "indoxylsulfate (Ind.SO4)\n",
      "inosine monophosphate\n",
      "inosine monophosphate (IMP)\n",
      "iron\n",
      "iron-sulfur (Fe/S) cluster\n",
      "kynurenine\n",
      "lactate\n",
      "leucine\n",
      "lysine\n",
      "methionine\n",
      "NAD\n",
      "NADH\n",
      "Nicotinamide mononucleotide\n",
      "nicotinamide mononucleotide (NMN)\n",
      "ornithine\n",
      "oxylipins\n",
      "phosphatidylcholine\n",
      "phosphocholines\n",
      "phosphocreatine\n",
      "Prostaglandins\n",
      "pyruvate\n",
      "ribose-5-phosphate\n",
      "S-adenosylhomocysteine\n",
      "S-adenosylhomocysteine (SAH)\n",
      "S-adenosylmethionine\n",
      "S-adenosylmethionine (SAM)\n",
      "SAH\n",
      "SAM\n",
      "sarcosine\n",
      "serine\n",
      "succinate\n",
      "taurine\n",
      "tetrahydrofolate\n",
      "tetrahydrofolate (THF)\n",
      "TG(18:1,26:0)\n",
      "threonine\n",
      "triglycerides\n",
      "unknown\n",
      "Uric acid\n",
      "uric acid\n",
      "uric acid (UA)\n",
      "valine\n",
      "xanthine\n",
      "β-alanine\n"
     ]
    }
   ],
   "source": [
    "all_metabolites = sorted(all_metabolites, key=lambda v: v.lower())\n",
    "print('\\n'.join(all_metabolites))"
   ]
  },
  {
   "cell_type": "code",
   "execution_count": 99,
   "id": "0f8d58ab-db56-4f4f-98be-7e09f55c6741",
   "metadata": {},
   "outputs": [],
   "source": [
    "dedup_response_raw = remove_duplicates(all_metabolites)"
   ]
  },
  {
   "cell_type": "code",
   "execution_count": 100,
   "id": "55ec8f97-a157-44b5-8141-d83bc8d4dd8c",
   "metadata": {
    "scrolled": true
   },
   "outputs": [
    {
     "name": "stdout",
     "output_type": "stream",
     "text": [
      "[Metabolite(name='10-formyl-THF', chebi_id='CHEBI:15636'), Metabolite(name='5,10-methylene THF', chebi_id='CHEBI:15637'), Metabolite(name='acetate', chebi_id='CHEBI:30089'), Metabolite(name='Apolipoprotein A-I', chebi_id='CHEBI:30090'), Metabolite(name='arginine', chebi_id='CHEBI:29016'), Metabolite(name='ATP', chebi_id='CHEBI:15422'), Metabolite(name='betaine', chebi_id='CHEBI:17750'), Metabolite(name='betaine aldehyde', chebi_id='CHEBI:15710'), Metabolite(name='carnitine', chebi_id='CHEBI:16347'), Metabolite(name='cholesterol ester', chebi_id='CHEBI:17002'), Metabolite(name='choline', chebi_id='CHEBI:15354'), Metabolite(name='creatine', chebi_id='CHEBI:16919'), Metabolite(name='dihydroceramide', chebi_id='CHEBI:17003'), Metabolite(name='dimethylglycine', chebi_id='CHEBI:17100'), Metabolite(name='dodecanedioc acid (DiCA.12.0)', chebi_id='CHEBI:17101'), Metabolite(name='formate', chebi_id='CHEBI:15740'), Metabolite(name='frataxin', chebi_id='CHEBI:17102'), Metabolite(name='glucose', chebi_id='CHEBI:17234'), Metabolite(name='glutamate', chebi_id='CHEBI:16015'), Metabolite(name='glycine', chebi_id='CHEBI:15428'), Metabolite(name='histamine', chebi_id='CHEBI:18295'), Metabolite(name='histidine', chebi_id='CHEBI:27570'), Metabolite(name='homocysteine', chebi_id='CHEBI:17560'), Metabolite(name='hydroxypropionylcarnitine (C3.OH)', chebi_id='CHEBI:17103'), Metabolite(name='hypoxanthine', chebi_id='CHEBI:17368'), Metabolite(name='indoxylsulfate (Ind.SO4)', chebi_id='CHEBI:17104'), Metabolite(name='inosine monophosphate', chebi_id='CHEBI:17202'), Metabolite(name='iron', chebi_id='CHEBI:18248'), Metabolite(name='iron-sulfur (Fe/S) cluster', chebi_id='CHEBI:17105'), Metabolite(name='kynurenine', chebi_id='CHEBI:16865'), Metabolite(name='lactate', chebi_id='CHEBI:16651'), Metabolite(name='leucine', chebi_id='CHEBI:15603'), Metabolite(name='lysine', chebi_id='CHEBI:18019'), Metabolite(name='methionine', chebi_id='CHEBI:16811'), Metabolite(name='NAD', chebi_id='CHEBI:16908'), Metabolite(name='NADH', chebi_id='CHEBI:16909'), Metabolite(name='Nicotinamide mononucleotide', chebi_id='CHEBI:17106'), Metabolite(name='ornithine', chebi_id='CHEBI:16659'), Metabolite(name='oxylipins', chebi_id='CHEBI:17107'), Metabolite(name='phosphatidylcholine', chebi_id='CHEBI:17044'), Metabolite(name='phosphocreatine', chebi_id='CHEBI:17108'), Metabolite(name='Prostaglandins', chebi_id='CHEBI:26333'), Metabolite(name='pyruvate', chebi_id='CHEBI:15361'), Metabolite(name='ribose-5-phosphate', chebi_id='CHEBI:17109'), Metabolite(name='S-adenosylhomocysteine', chebi_id='CHEBI:16680'), Metabolite(name='S-adenosylmethionine', chebi_id='CHEBI:16681'), Metabolite(name='sarcosine', chebi_id='CHEBI:17110'), Metabolite(name='serine', chebi_id='CHEBI:17111'), Metabolite(name='succinate', chebi_id='CHEBI:15741'), Metabolite(name='taurine', chebi_id='CHEBI:15891'), Metabolite(name='tetrahydrofolate', chebi_id='CHEBI:15638'), Metabolite(name='TG(18:1,26:0)', chebi_id='CHEBI:17112'), Metabolite(name='threonine', chebi_id='CHEBI:16862'), Metabolite(name='triglycerides', chebi_id='CHEBI:17855'), Metabolite(name='unknown', chebi_id='CHEBI:17113'), Metabolite(name='uric acid', chebi_id='CHEBI:17568'), Metabolite(name='valine', chebi_id='CHEBI:16414'), Metabolite(name='xanthine', chebi_id='CHEBI:17855'), Metabolite(name='β-alanine', chebi_id='CHEBI:16958')]\n"
     ]
    },
    {
     "name": "stderr",
     "output_type": "stream",
     "text": [
      "/var/folders/jg/0t5c1xb50dz652thhvddz6jh5w38nh/T/ipykernel_9076/1473257754.py:1: PydanticDeprecatedSince20: The `parse_raw` method is deprecated; if your data is JSON use `model_validate_json`, otherwise load the data then use `model_validate` instead. Deprecated in Pydantic V2.0 to be removed in V3.0. See Pydantic V2 Migration Guide at https://errors.pydantic.dev/2.10/migration/\n",
      "  dedup_response = DedupResponse.parse_raw(dedup_response_raw.choices[0].message.content)\n"
     ]
    }
   ],
   "source": [
    "dedup_response = DedupResponse.parse_raw(dedup_response_raw.choices[0].message.content)\n",
    "print(dedup_response.metabolites)"
   ]
  },
  {
   "cell_type": "markdown",
   "id": "a89648fd-4c55-4ebf-ace4-9d99fd5368fc",
   "metadata": {},
   "source": [
    "## Evaluate Response for Metabolites"
   ]
  },
  {
   "cell_type": "code",
   "execution_count": 13,
   "id": "d112fc06-baa1-4063-9428-07901b46ca3d",
   "metadata": {
    "jupyter": {
     "source_hidden": true
    }
   },
   "outputs": [],
   "source": [
    "ground_truth_metabolites = \"\"\"formate\n",
    "sarcosine\n",
    "hypoxanthine\n",
    "homocysteine\n",
    "ATP\n",
    "NAD\n",
    "NADH\n",
    "fatty acids\n",
    "dihydroceramide\n",
    "unsaturated fatty acid\n",
    "phosphocholines\n",
    "cholesterol ester\n",
    "hydroxypropionylcarnitine\n",
    "acetate\n",
    "dodecanedioic acid\n",
    "indoxylsulfate\n",
    "arginine\n",
    "glucose\n",
    "carnitine\n",
    "glutamate\n",
    "lysine\n",
    "histidine\n",
    "branched chain amino acids\n",
    "leucine\n",
    "valine\n",
    "choline\n",
    "threonine\n",
    "ornithine\n",
    "lactate\n",
    "succinate\n",
    "cholesterol ester 20:0\n",
    "triglycerides\n",
    "phosphatidylcholine\n",
    "betaine\n",
    "methionine\n",
    "s-adenosylmethionine\n",
    "s-adenosylhomocysteine\n",
    "dimethylglycine\n",
    "iron-sulfur clusters\n",
    "phosphocreatine\n",
    "nicotinamide mononucleotide\n",
    "oxylipin\n",
    "reactive oxygen species\n",
    "taurine\n",
    "β-alanine\n",
    "pyruvate\n",
    "\"\"\".strip().split(\"\\n\")\n",
    "\n",
    "ground_truth_pathways = \"\"\"iron-sulfur cluster biogenesis\n",
    "cellular energy metabolism\n",
    "mitochondrial electron transport chain\n",
    "krebs cycle\n",
    "electron transfer flavoprotein\n",
    "nuclear gene expression\n",
    "glycolysis\n",
    "carbohydrate and fatty acid metabolism\n",
    "energy metabolism\n",
    "one-carbon metabolism\n",
    "folate cycle\n",
    "methionine salvage\n",
    "purine nucleotide salvage and synthesis\n",
    "pyruvate metabolism\n",
    "\"\"\".split(\"\\n\")\n",
    "\n",
    "ground_truth_proteins = [\n",
    "    \"frataxin\",\n",
    "]\n",
    "\n",
    "ground_truth_drugs = [\n",
    "    \"Etravirine\",\n",
    "    \"Resveratrol\",\n",
    "    \"SS-31\",\n",
    "    \"deferoxamine\",\n",
    "    \"BAPTA-AM\",\n",
    "    \"antioxidants\",\n",
    "]\n",
    "\n",
    "ground_truth_diseases = [\n",
    "    \"friedreich ataxia\",\n",
    "    \"dyslipidemia\",\n",
    "    \"pre-diabetic state\",\n",
    "    \"diabetes\"\n",
    "]"
   ]
  },
  {
   "cell_type": "code",
   "execution_count": 22,
   "id": "a7bbb3ea-b786-4d0c-b73a-3c8688375a36",
   "metadata": {},
   "outputs": [],
   "source": [
    "def compare_lists(observed: list, expected: list, cmp=lambda obs, exp: obs == exp):\n",
    "    # contains observed items\n",
    "    true_positives = []\n",
    "    # contains observed items\n",
    "    false_positives = []\n",
    "    # contains expected items\n",
    "    false_negatives = []\n",
    "\n",
    "    def find(needle, haystack):\n",
    "        for x in haystack:\n",
    "            if cmp(needle, x):\n",
    "                return True\n",
    "        return False\n",
    "\n",
    "    for obs in observed:\n",
    "        if find(obs, expected):\n",
    "            true_positives.append(obs)\n",
    "        else:\n",
    "            false_positives.append(obs)\n",
    "\n",
    "    for exp in expected:\n",
    "        if not find(exp, observed):\n",
    "            false_negatives.append(exp)\n",
    "\n",
    "    return {\n",
    "        'truepos': true_positives,\n",
    "        'falsepos': false_positives,\n",
    "        'falseneg': false_negatives,\n",
    "    }"
   ]
  },
  {
   "cell_type": "code",
   "execution_count": 92,
   "id": "e3747a39-e3aa-4e0a-89cb-a4fec664868b",
   "metadata": {},
   "outputs": [
    {
     "name": "stdout",
     "output_type": "stream",
     "text": [
      "True positives: 35\n",
      "False positives: 24\n",
      "False negatives: 11\n",
      "Ground truth count: 46\n"
     ]
    }
   ],
   "source": [
    "def similar(a: str, b: str) -> bool:\n",
    "    a = a.lower()\n",
    "    b = b.lower()\n",
    "    return a == b\n",
    "\n",
    "compare_results = compare_lists(\n",
    "    dedup_response.metabolite_names,\n",
    "    ground_truth_metabolites,\n",
    "    cmp=similar,\n",
    ")\n",
    "\n",
    "print(f'True positives: {len(compare_results['truepos'])}')\n",
    "print(f'False positives: {len(compare_results['falsepos'])}')\n",
    "print(f'False negatives: {len(compare_results['falseneg'])}')\n",
    "print(f'Ground truth count: {len(ground_truth_metabolites)}')"
   ]
  },
  {
   "cell_type": "markdown",
   "id": "09c7ec81-13f8-4130-98b2-86eab8816bca",
   "metadata": {},
   "source": [
    "### True positives"
   ]
  },
  {
   "cell_type": "code",
   "execution_count": 93,
   "id": "7de363b9-9984-4cb8-9b25-9e197dc81d62",
   "metadata": {},
   "outputs": [
    {
     "name": "stdout",
     "output_type": "stream",
     "text": [
      "acetate\n",
      "arginine\n",
      "ATP\n",
      "betaine\n",
      "carnitine\n",
      "cholesterol ester\n",
      "choline\n",
      "dihydroceramide\n",
      "dimethylglycine\n",
      "formate\n",
      "glucose\n",
      "glutamate\n",
      "histidine\n",
      "homocysteine\n",
      "hypoxanthine\n",
      "lactate\n",
      "leucine\n",
      "lysine\n",
      "methionine\n",
      "NAD\n",
      "NADH\n",
      "Nicotinamide mononucleotide\n",
      "ornithine\n",
      "phosphatidylcholine\n",
      "phosphocreatine\n",
      "pyruvate\n",
      "S-adenosylhomocysteine\n",
      "S-adenosylmethionine\n",
      "sarcosine\n",
      "succinate\n",
      "taurine\n",
      "threonine\n",
      "triglycerides\n",
      "valine\n",
      "β-alanine\n"
     ]
    }
   ],
   "source": [
    "print('\\n'.join(compare_results['truepos']))"
   ]
  },
  {
   "cell_type": "markdown",
   "id": "7f2f5206-fd93-45e1-91da-61d011596b0d",
   "metadata": {},
   "source": [
    "### False positives"
   ]
  },
  {
   "cell_type": "code",
   "execution_count": 17,
   "id": "5267f722-dfba-4d4b-9856-49a6b577fa73",
   "metadata": {},
   "outputs": [
    {
     "name": "stdout",
     "output_type": "stream",
     "text": [
      "10-formyl-THF\n",
      "5,10-methylene THF\n",
      "Apolipoprotein A-I\n",
      "betaine aldehyde\n",
      "creatine\n",
      "glycine\n",
      "histamine\n",
      "inosine monophosphate\n",
      "kynurenine\n",
      "oxylipins\n",
      "ribose-5-phosphate\n",
      "S-adenosylhomocysteine (SAH)\n",
      "S-adenosylmethionine (SAM)\n",
      "serine\n",
      "tetrahydrofolate (THF)\n",
      "uric acid\n",
      "xanthine\n"
     ]
    }
   ],
   "source": [
    "print('\\n'.join(compare_results['falsepos']))"
   ]
  },
  {
   "cell_type": "markdown",
   "id": "0695932b-7ee3-4342-9685-6859e98cb8df",
   "metadata": {},
   "source": [
    "### False negatives"
   ]
  },
  {
   "cell_type": "code",
   "execution_count": 18,
   "id": "97e156ce-384e-42bf-ab75-cd7dda43ac48",
   "metadata": {},
   "outputs": [
    {
     "name": "stdout",
     "output_type": "stream",
     "text": [
      "fatty acids\n",
      "unsaturated fatty acid\n",
      "branched chain amino acids\n",
      "cholesterol ester 20:0\n",
      "phosphatidylcholine\n",
      "s-adenosylmethionine\n",
      "s-adenosylhomocysteine\n",
      "iron-sulfur clusters\n",
      "oxylipin\n",
      "reactive oxygen species\n"
     ]
    }
   ],
   "source": [
    "print('\\n'.join(compare_results['falseneg']))"
   ]
  },
  {
   "cell_type": "markdown",
   "id": "74291c88-7618-436c-9614-a5f4fb5ec9d8",
   "metadata": {},
   "source": [
    "## Analysis\n",
    "\n",
    "- Some false negatives were actually found (e.g. s-adenosylmethionine, oxylipin). This is a result of a naive text similarity comparison approach.\n",
    "- Chunking by page could potentially miss multi-word metabolites that straddle a page break. Chunking by paragraph or sentence is more ideal, but the PDF text extraction output doesn't support such chunking reliably.\n",
    "- Smaller chunking might help pare down the false negatives list."
   ]
  },
  {
   "cell_type": "markdown",
   "id": "a84de9aa-bedd-4d53-8bca-1a3b4778c015",
   "metadata": {},
   "source": [
    "## GPT compare lists"
   ]
  },
  {
   "cell_type": "code",
   "execution_count": 72,
   "id": "c7df0e75-054a-47c5-a3f4-2c7db7cc74f1",
   "metadata": {},
   "outputs": [],
   "source": [
    "class CompareResponse(BaseModel):\n",
    "    true_positives: list[str] = Field(..., title=\"True Positives\", description=\"A list of true positives\")\n",
    "    false_positives: list[str] = Field(..., title=\"False Positives\", description=\"A list of false positives\")\n",
    "    false_negatives: list[str] = Field(..., title=\"False Negatives\", description=\"A list of false negatives\")\n",
    "\n",
    "def gpt_compare_lists(observed: list, expected: list, model=\"gpt-4o-2024-08-06\", temperature=0, system_message='You are an expert in metabolomics.'):\n",
    "    content = f'''Identify the true positives, false positives, and false negatives between the ground truth and the observed lists, normalizing the metabolite names on plurality and abbreviations.\n",
    "\n",
    "# Ground Truth\n",
    "{'\\n'.join(expected)}\n",
    "\n",
    "# Observed\n",
    "{'\\n'.join(observed)}'''\n",
    "    response = client.beta.chat.completions.parse(\n",
    "        model=model,\n",
    "        temperature=temperature,\n",
    "        messages=[\n",
    "            {\"role\": \"system\", \"content\": system_message},\n",
    "            {\"role\": \"user\", \"content\": content},\n",
    "        ],\n",
    "        response_format=CompareResponse,\n",
    "    )\n",
    "    return response"
   ]
  },
  {
   "cell_type": "code",
   "execution_count": 94,
   "id": "75216b23-7afa-45f4-9f8f-3eb7a07e3d37",
   "metadata": {},
   "outputs": [],
   "source": [
    "compare_result = gpt_compare_lists(\n",
    "    dedup_response.metabolite_names,\n",
    "    ground_truth_metabolites,\n",
    ")"
   ]
  },
  {
   "cell_type": "code",
   "execution_count": 95,
   "id": "4fda0b4e-d3d1-4f65-9926-2bbb32cc6652",
   "metadata": {},
   "outputs": [
    {
     "name": "stdout",
     "output_type": "stream",
     "text": [
      "True positives (38)\n",
      "===\n",
      "formate\n",
      "sarcosine\n",
      "hypoxanthine\n",
      "homocysteine\n",
      "ATP\n",
      "NAD\n",
      "NADH\n",
      "dihydroceramide\n",
      "cholesterol ester\n",
      "hydroxypropionylcarnitine\n",
      "acetate\n",
      "glucose\n",
      "carnitine\n",
      "glutamate\n",
      "lysine\n",
      "histidine\n",
      "leucine\n",
      "valine\n",
      "choline\n",
      "threonine\n",
      "ornithine\n",
      "lactate\n",
      "succinate\n",
      "triglycerides\n",
      "phosphatidylcholine\n",
      "betaine\n",
      "methionine\n",
      "s-adenosylmethionine\n",
      "s-adenosylhomocysteine\n",
      "dimethylglycine\n",
      "iron-sulfur clusters\n",
      "phosphocreatine\n",
      "nicotinamide mononucleotide\n",
      "oxylipin\n",
      "taurine\n",
      "β-alanine\n",
      "pyruvate\n",
      "arginine\n",
      "\n",
      "False positives (19)\n",
      "===\n",
      "10-formyl-THF\n",
      "5,10-methylene THF\n",
      "Apolipoprotein A-I\n",
      "betaine aldehyde\n",
      "creatine\n",
      "frataxin\n",
      "glycine\n",
      "histamine\n",
      "inosine monophosphate\n",
      "iron\n",
      "kynurenine\n",
      "oxylipins\n",
      "Prostaglandins\n",
      "ribose-5-phosphate\n",
      "tetrahydrofolate\n",
      "TG(18:1,26:0)\n",
      "unknown\n",
      "uric acid\n",
      "xanthine\n",
      "\n",
      "False negatives (7)\n",
      "===\n",
      "fatty acids\n",
      "unsaturated fatty acid\n",
      "phosphocholines\n",
      "dodecanedioic acid\n",
      "branched chain amino acids\n",
      "cholesterol ester 20:0\n",
      "reactive oxygen species\n",
      "\n"
     ]
    },
    {
     "name": "stderr",
     "output_type": "stream",
     "text": [
      "/var/folders/jg/0t5c1xb50dz652thhvddz6jh5w38nh/T/ipykernel_9076/2666098585.py:1: PydanticDeprecatedSince20: The `parse_obj` method is deprecated; use `model_validate` instead. Deprecated in Pydantic V2.0 to be removed in V3.0. See Pydantic V2 Migration Guide at https://errors.pydantic.dev/2.10/migration/\n",
      "  result = CompareResponse.parse_obj(json.loads(compare_result.choices[0].message.content))\n"
     ]
    }
   ],
   "source": [
    "result = CompareResponse.parse_obj(json.loads(compare_result.choices[0].message.content))\n",
    "\n",
    "print(f'''True positives ({len(result.true_positives)})\n",
    "===\n",
    "{'\\n'.join(result.true_positives)}\n",
    "\n",
    "False positives ({len(result.false_positives)})\n",
    "===\n",
    "{'\\n'.join(result.false_positives)}\n",
    "\n",
    "False negatives ({len(result.false_negatives)})\n",
    "===\n",
    "{'\\n'.join(result.false_negatives)}\n",
    "''')"
   ]
  },
  {
   "cell_type": "code",
   "execution_count": 96,
   "id": "aa86f67d-3eaa-43c4-a6c9-fe362324a8d5",
   "metadata": {},
   "outputs": [
    {
     "name": "stdout",
     "output_type": "stream",
     "text": [
      "name='10-formyl-THF' chebi_id='CHEBI:15636'\n",
      "name='5,10-methylene THF' chebi_id='CHEBI:15637'\n",
      "name='acetate' chebi_id='CHEBI:30089'\n",
      "name='Apolipoprotein A-I' chebi_id='CHEBI:30090'\n",
      "name='arginine' chebi_id='CHEBI:29016'\n",
      "name='ATP' chebi_id='CHEBI:15422'\n",
      "name='betaine' chebi_id='CHEBI:17750'\n",
      "name='betaine aldehyde' chebi_id='CHEBI:15710'\n",
      "name='carnitine' chebi_id='CHEBI:16347'\n",
      "name='cholesterol ester' chebi_id='CHEBI:17002'\n",
      "name='choline' chebi_id='CHEBI:15354'\n",
      "name='creatine' chebi_id='CHEBI:16919'\n",
      "name='dihydroceramide' chebi_id='CHEBI:17051'\n",
      "name='dimethylglycine' chebi_id='CHEBI:17100'\n",
      "name='dodecanedioc acid (DiCA.12.0)' chebi_id='CHEBI:17101'\n",
      "name='formate' chebi_id='CHEBI:15740'\n",
      "name='frataxin' chebi_id='CHEBI:17102'\n",
      "name='glucose' chebi_id='CHEBI:17234'\n",
      "name='glutamate' chebi_id='CHEBI:16015'\n",
      "name='glycine' chebi_id='CHEBI:15428'\n",
      "name='histamine' chebi_id='CHEBI:18295'\n",
      "name='histidine' chebi_id='CHEBI:27570'\n",
      "name='homocysteine' chebi_id='CHEBI:17592'\n",
      "name='hydroxypropionylcarnitine (C3.OH)' chebi_id='CHEBI:17103'\n",
      "name='hypoxanthine' chebi_id='CHEBI:17368'\n",
      "name='indoxylsulfate (Ind.SO4)' chebi_id='CHEBI:17104'\n",
      "name='inosine monophosphate' chebi_id='CHEBI:16027'\n",
      "name='iron' chebi_id='CHEBI:18248'\n",
      "name='iron-sulfur (Fe/S) cluster' chebi_id='CHEBI:17105'\n",
      "name='kynurenine' chebi_id='CHEBI:16865'\n",
      "name='lactate' chebi_id='CHEBI:16651'\n",
      "name='leucine' chebi_id='CHEBI:15603'\n",
      "name='lysine' chebi_id='CHEBI:18019'\n",
      "name='methionine' chebi_id='CHEBI:16811'\n",
      "name='NAD' chebi_id='CHEBI:15846'\n",
      "name='NADH' chebi_id='CHEBI:16908'\n",
      "name='Nicotinamide mononucleotide' chebi_id='CHEBI:17106'\n",
      "name='ornithine' chebi_id='CHEBI:16810'\n",
      "name='oxylipins' chebi_id='CHEBI:17107'\n",
      "name='phosphatidylcholine' chebi_id='CHEBI:17044'\n",
      "name='phosphocreatine' chebi_id='CHEBI:17108'\n",
      "name='Prostaglandins' chebi_id='CHEBI:15551'\n",
      "name='pyruvate' chebi_id='CHEBI:15361'\n",
      "name='ribose-5-phosphate' chebi_id='CHEBI:17109'\n",
      "name='S-adenosylhomocysteine' chebi_id='CHEBI:16680'\n",
      "name='S-adenosylmethionine' chebi_id='CHEBI:16681'\n",
      "name='sarcosine' chebi_id='CHEBI:17110'\n",
      "name='serine' chebi_id='CHEBI:17111'\n",
      "name='succinate' chebi_id='CHEBI:15741'\n",
      "name='taurine' chebi_id='CHEBI:15891'\n",
      "name='tetrahydrofolate' chebi_id='CHEBI:15636'\n",
      "name='TG(18:1,26:0)' chebi_id='CHEBI:17112'\n",
      "name='threonine' chebi_id='CHEBI:16860'\n",
      "name='triglycerides' chebi_id='CHEBI:17855'\n",
      "name='unknown' chebi_id='CHEBI:17113'\n",
      "name='uric acid' chebi_id='CHEBI:17568'\n",
      "name='valine' chebi_id='CHEBI:16414'\n",
      "name='xanthine' chebi_id='CHEBI:16814'\n",
      "name='β-alanine' chebi_id='CHEBI:16977'\n"
     ]
    }
   ],
   "source": [
    "for metabolite in dedup_response.metabolites:\n",
    "    print(metabolite)"
   ]
  },
  {
   "cell_type": "markdown",
   "id": "9fa5aaeb-ea80-4460-b3c0-d44f6fa6e061",
   "metadata": {},
   "source": [
    "- the \"unknown\" metabolite has a CHEBI ID linked to erythritol, which does not seem to appear in the text."
   ]
  }
 ],
 "metadata": {
  "kernelspec": {
   "display_name": "Python 3 (ipykernel)",
   "language": "python",
   "name": "python3"
  },
  "language_info": {
   "codemirror_mode": {
    "name": "ipython",
    "version": 3
   },
   "file_extension": ".py",
   "mimetype": "text/x-python",
   "name": "python",
   "nbconvert_exporter": "python",
   "pygments_lexer": "ipython3",
   "version": "3.13.0"
  }
 },
 "nbformat": 4,
 "nbformat_minor": 5
}
