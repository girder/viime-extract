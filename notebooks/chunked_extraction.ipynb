{
 "cells": [
  {
   "cell_type": "code",
   "execution_count": 53,
   "id": "4a95b19b-ff73-4f20-a874-e0842eb9131c",
   "metadata": {},
   "outputs": [],
   "source": [
    "from pydantic import BaseModel, Field\n",
    "from openai import OpenAI\n",
    "import dotenv\n",
    "import itertools\n",
    "import json\n",
    "\n",
    "from schema import Article, ArticleFragment"
   ]
  },
  {
   "cell_type": "code",
   "execution_count": 5,
   "id": "5b87f2b5-ef10-4536-873f-e8c9362051cd",
   "metadata": {},
   "outputs": [],
   "source": [
    "dotenv.load_dotenv()\n",
    "client = OpenAI()"
   ]
  },
  {
   "cell_type": "code",
   "execution_count": 47,
   "id": "6d2243d3-30c9-4ecd-b4a8-3e2a1ce840e1",
   "metadata": {},
   "outputs": [],
   "source": [
    "extraction_message = \"\"\"You are an expert in extracting structured information from medical journal articles.\n",
    "Identify the following key details: the title, authors, and any mentioned metabolites and pathways.\n",
    "Present the extracted information in a clear, structured format. Be comprehensive and extract every single\n",
    "mentioned entity. You will be evaluated on the quality and completeness of the extracted information.\n",
    "\n",
    "If you are not confident in the identifier for an entity, you can specify it as \"unknown\". It is better\n",
    "to include an entity with an \"unknown\" identified than to omit it entirely.\"\"\"\n",
    "\n",
    "consolidation_message = \"\"\"You are a helpful assistant who is an expert in metabolites and metabolics. \"\"\""
   ]
  },
  {
   "cell_type": "code",
   "execution_count": 93,
   "id": "acaab767-280d-4ff3-8cbd-7d44fe5ed14c",
   "metadata": {},
   "outputs": [],
   "source": [
    "def is_page_marker(line: str) -> bool:\n",
    "    try:\n",
    "        data = json.loads(line.replace(\"'\", '\"'))\n",
    "        return isinstance(data, dict) and 'page' in data and 'source' in data\n",
    "    except json.decoder.JSONDecodeError:\n",
    "        return False\n",
    "\n",
    "def chunk_document(document):\n",
    "    '''Chunk the document by page'''\n",
    "    linegen = iter(document.strip().split('\\n'))\n",
    "    \n",
    "    # skip lines until we get to the first page marker\n",
    "    for line in linegen:\n",
    "        if is_page_marker(line):\n",
    "            break\n",
    "\n",
    "    page = []\n",
    "    for line in linegen:\n",
    "        if not line.strip():\n",
    "            continue\n",
    "        if is_page_marker(line):\n",
    "            yield '\\n'.join(page)\n",
    "            page = []\n",
    "        else:\n",
    "            page.append(line)\n",
    "\n",
    "    if page:\n",
    "        yield '\\n'.join(page)\n",
    "\n",
    "def chunk_and_extract(document, model=\"gpt-4o-2024-08-06\", temperature=0, system_message=extraction_message):\n",
    "    responses = []\n",
    "    for page, response_format in zip(\n",
    "        chunk_document(document),\n",
    "        itertools.chain([Article], itertools.repeat(ArticleFragment)),\n",
    "    ):\n",
    "        response = client.beta.chat.completions.parse(\n",
    "            model=model,\n",
    "            temperature=temperature,\n",
    "            messages=[\n",
    "                {\"role\": \"system\", \"content\": system_message},\n",
    "                {\"role\": \"user\", \"content\": page},\n",
    "            ],\n",
    "            response_format=response_format,\n",
    "        )\n",
    "        responses.append(json.loads(response.choices[0].message.content))\n",
    "    return responses\n",
    "\n",
    "class DedupResponse(BaseModel):\n",
    "    metabolites: list[str] = Field(..., title=\"Metabolites\", description=\"A list of metabolites\")\n",
    "\n",
    "def remove_duplicates(content, model=\"gpt-4o-2024-08-06\", temperature=0, system_message=consolidation_message):\n",
    "    response = client.beta.chat.completions.parse(\n",
    "        model=model,\n",
    "        temperature=temperature,\n",
    "        messages=[\n",
    "            {\"role\": \"system\", \"content\": system_message},\n",
    "            {\"role\": \"user\", \"content\": content},\n",
    "        ],\n",
    "        response_format=DedupResponse,\n",
    "    )\n",
    "    return response"
   ]
  },
  {
   "cell_type": "markdown",
   "id": "6c8703ed-22d8-4eb2-be28-3e6dee3dd207",
   "metadata": {},
   "source": [
    "## Extract Data"
   ]
  },
  {
   "cell_type": "code",
   "execution_count": 16,
   "id": "b4568b13-7803-4797-8468-e098f25d08d2",
   "metadata": {},
   "outputs": [],
   "source": [
    "with open('../data/MolGenetMetab_136_306_2022.txt', 'r') as file:\n",
    "    contents = file.read()\n",
    "\n",
    "responses = chunk_and_extract(contents)"
   ]
  },
  {
   "cell_type": "code",
   "execution_count": 17,
   "id": "42774b4e-29e1-46eb-b237-2e3a6db189e1",
   "metadata": {},
   "outputs": [
    {
     "name": "stdout",
     "output_type": "stream",
     "text": [
      "9\n"
     ]
    }
   ],
   "source": [
    "print(len(responses))"
   ]
  },
  {
   "cell_type": "markdown",
   "id": "b1a84901-004a-4800-b279-efb74c744123",
   "metadata": {},
   "source": [
    "## Remove Duplicate Metabolites"
   ]
  },
  {
   "cell_type": "code",
   "execution_count": 24,
   "id": "7cc438e3-a015-46a2-9e9f-057eff8e30ae",
   "metadata": {},
   "outputs": [
    {
     "name": "stderr",
     "output_type": "stream",
     "text": [
      "/var/folders/jg/0t5c1xb50dz652thhvddz6jh5w38nh/T/ipykernel_60902/4085826527.py:3: PydanticDeprecatedSince20: The `parse_obj` method is deprecated; use `model_validate` instead. Deprecated in Pydantic V2.0 to be removed in V3.0. See Pydantic V2 Migration Guide at https://errors.pydantic.dev/2.10/migration/\n",
      "  fragment = ArticleFragment.parse_obj(resp)\n"
     ]
    }
   ],
   "source": [
    "all_metabolites_set = set()\n",
    "for resp in responses:\n",
    "    fragment = ArticleFragment.parse_obj(resp)\n",
    "    for metabolite in fragment.mentioned_metabolites:\n",
    "        all_metabolites_set.add(metabolite.name)\n",
    "all_metabolites = list(all_metabolites_set)"
   ]
  },
  {
   "cell_type": "code",
   "execution_count": 48,
   "id": "f874aa62-c2a0-4795-b808-ca3b95610b0d",
   "metadata": {
    "scrolled": true
   },
   "outputs": [
    {
     "name": "stdout",
     "output_type": "stream",
     "text": [
      "10-formyl-THF\n",
      "5,10-methylene THF\n",
      "5,10-methylene-THF\n",
      "acetate\n",
      "Apolipoprotein A-I\n",
      "arginine\n",
      "ATP\n",
      "betaine\n",
      "betaine aldehyde\n",
      "carnitine\n",
      "cholesterol ester\n",
      "choline\n",
      "creatine\n",
      "dihydroceramide\n",
      "dimethylglycine\n",
      "dodecanedioic acid\n",
      "formate\n",
      "glucose\n",
      "glutamate\n",
      "glycine\n",
      "histamine\n",
      "histidine\n",
      "homocysteine\n",
      "hydroxypropionylcarnitine\n",
      "hypoxanthine\n",
      "indoxylsulfate\n",
      "inosine monophosphate (IMP)\n",
      "kynurenine\n",
      "lactate\n",
      "leucine\n",
      "lysine\n",
      "methionine\n",
      "NAD\n",
      "NADH\n",
      "Nicotinamide mononucleotide\n",
      "nicotinamide mononucleotide (NMN)\n",
      "ornithine\n",
      "oxylipins\n",
      "phosphocholines\n",
      "phosphocreatine\n",
      "pyruvate\n",
      "ribose-5-phosphate\n",
      "S-adenosylhomocysteine (SAH)\n",
      "S-adenosylmethionine (SAM)\n",
      "SAH\n",
      "SAM\n",
      "sarcosine\n",
      "serine\n",
      "succinate\n",
      "taurine\n",
      "tetrahydrofolate (THF)\n",
      "THF\n",
      "threonine\n",
      "triglycerides\n",
      "uric acid\n",
      "Uric acid\n",
      "valine\n",
      "xanthine\n",
      "β-alanine\n"
     ]
    }
   ],
   "source": [
    "all_metabolites = sorted(all_metabolites, key=lambda v: v.lower())\n",
    "print('\\n'.join(all_metabolites))"
   ]
  },
  {
   "cell_type": "code",
   "execution_count": 63,
   "id": "0f8d58ab-db56-4f4f-98be-7e09f55c6741",
   "metadata": {},
   "outputs": [],
   "source": [
    "dedup_response_raw = remove_duplicates(\n",
    "    f'Please all duplicate metabolites from the following list:\\n{\"\\n\".join(all_metabolites)}\\n'\n",
    ")"
   ]
  },
  {
   "cell_type": "code",
   "execution_count": 64,
   "id": "55ec8f97-a157-44b5-8141-d83bc8d4dd8c",
   "metadata": {
    "scrolled": true
   },
   "outputs": [
    {
     "name": "stdout",
     "output_type": "stream",
     "text": [
      "['10-formyl-THF', '5,10-methylene THF', 'acetate', 'Apolipoprotein A-I', 'arginine', 'ATP', 'betaine', 'betaine aldehyde', 'carnitine', 'cholesterol ester', 'choline', 'creatine', 'dihydroceramide', 'dimethylglycine', 'dodecanedioic acid', 'formate', 'glucose', 'glutamate', 'glycine', 'histamine', 'histidine', 'homocysteine', 'hydroxypropionylcarnitine', 'hypoxanthine', 'indoxylsulfate', 'inosine monophosphate (IMP)', 'kynurenine', 'lactate', 'leucine', 'lysine', 'methionine', 'NAD', 'NADH', 'Nicotinamide mononucleotide', 'ornithine', 'oxylipins', 'phosphocholines', 'phosphocreatine', 'pyruvate', 'ribose-5-phosphate', 'S-adenosylhomocysteine (SAH)', 'S-adenosylmethionine (SAM)', 'sarcosine', 'serine', 'succinate', 'taurine', 'tetrahydrofolate (THF)', 'threonine', 'triglycerides', 'uric acid', 'valine', 'xanthine', 'β-alanine']\n"
     ]
    },
    {
     "name": "stderr",
     "output_type": "stream",
     "text": [
      "/var/folders/jg/0t5c1xb50dz652thhvddz6jh5w38nh/T/ipykernel_60902/1473257754.py:1: PydanticDeprecatedSince20: The `parse_raw` method is deprecated; if your data is JSON use `model_validate_json`, otherwise load the data then use `model_validate` instead. Deprecated in Pydantic V2.0 to be removed in V3.0. See Pydantic V2 Migration Guide at https://errors.pydantic.dev/2.10/migration/\n",
      "  dedup_response = DedupResponse.parse_raw(dedup_response_raw.choices[0].message.content)\n"
     ]
    }
   ],
   "source": [
    "dedup_response = DedupResponse.parse_raw(dedup_response_raw.choices[0].message.content)\n",
    "print(dedup_response.metabolites)"
   ]
  },
  {
   "cell_type": "markdown",
   "id": "a89648fd-4c55-4ebf-ace4-9d99fd5368fc",
   "metadata": {},
   "source": [
    "## Evaluate Response for Metabolites"
   ]
  },
  {
   "cell_type": "code",
   "execution_count": 100,
   "id": "d112fc06-baa1-4063-9428-07901b46ca3d",
   "metadata": {
    "jupyter": {
     "source_hidden": true
    }
   },
   "outputs": [],
   "source": [
    "ground_truth_metabolites = \"\"\"formate\n",
    "sarcosine\n",
    "hypoxanthine\n",
    "homocysteine\n",
    "ATP\n",
    "NAD\n",
    "NADH\n",
    "fatty acids\n",
    "dihydroceramide\n",
    "unsaturated fatty acid\n",
    "phosphocholines\n",
    "cholesterol ester\n",
    "hydroxypropionylcarnitine\n",
    "acetate\n",
    "dodecanedioic acid\n",
    "indoxylsulfate\n",
    "arginine\n",
    "glucose\n",
    "carnitine\n",
    "glutamate\n",
    "lysine\n",
    "histidine\n",
    "branched chain amino acids\n",
    "leucine\n",
    "valine\n",
    "choline\n",
    "threonine\n",
    "ornithine\n",
    "lactate\n",
    "succinate\n",
    "cholesterol ester 20:0\n",
    "triglycerides\n",
    "phosphatidylcholine\n",
    "betaine\n",
    "methionine\n",
    "s-adenosylmethionine\n",
    "s-adenosylhomocysteine\n",
    "dimethylglycine\n",
    "iron-sulfur clusters\n",
    "phosphocreatine\n",
    "nicotinamide mononucleotide\n",
    "oxylipin\n",
    "reactive oxygen species\n",
    "taurine\n",
    "β-alanine\n",
    "pyruvate\n",
    "\"\"\".strip().split(\"\\n\")\n",
    "\n",
    "ground_truth_pathways = \"\"\"iron-sulfur cluster biogenesis\n",
    "cellular energy metabolism\n",
    "mitochondrial electron transport chain\n",
    "krebs cycle\n",
    "electron transfer flavoprotein\n",
    "nuclear gene expression\n",
    "glycolysis\n",
    "carbohydrate and fatty acid metabolism\n",
    "energy metabolism\n",
    "one-carbon metabolism\n",
    "folate cycle\n",
    "methionine salvage\n",
    "purine nucleotide salvage and synthesis\n",
    "pyruvate metabolism\n",
    "\"\"\".split(\"\\n\")\n",
    "\n",
    "ground_truth_proteins = [\n",
    "    \"frataxin\",\n",
    "]\n",
    "\n",
    "ground_truth_drugs = [\n",
    "    \"Etravirine\",\n",
    "    \"Resveratrol\",\n",
    "    \"SS-31\",\n",
    "    \"deferoxamine\",\n",
    "    \"BAPTA-AM\",\n",
    "    \"antioxidants\",\n",
    "]\n",
    "\n",
    "ground_truth_diseases = [\n",
    "    \"friedreich ataxia\",\n",
    "    \"dyslipidemia\",\n",
    "    \"pre-diabetic state\",\n",
    "    \"diabetes\"\n",
    "]"
   ]
  },
  {
   "cell_type": "code",
   "execution_count": 87,
   "id": "a7bbb3ea-b786-4d0c-b73a-3c8688375a36",
   "metadata": {},
   "outputs": [],
   "source": [
    "def compare_lists(observed: list, expected: list, cmp=lambda obs, exp: obs == exp):\n",
    "    # contains observed items\n",
    "    true_positives = []\n",
    "    # contains observed items\n",
    "    false_positives = []\n",
    "    # contains expected items\n",
    "    false_negatives = []\n",
    "\n",
    "    def find(needle, haystack):\n",
    "        for x in haystack:\n",
    "            if cmp(needle, x):\n",
    "                return True\n",
    "        return False\n",
    "\n",
    "    for obs in observed:\n",
    "        if find(obs, expected):\n",
    "            true_positives.append(obs)\n",
    "        else:\n",
    "            false_positives.append(obs)\n",
    "\n",
    "    for exp in expected:\n",
    "        if not find(exp, observed):\n",
    "            false_negatives.append(exp)\n",
    "\n",
    "    return {\n",
    "        'truepos': true_positives,\n",
    "        'falsepos': false_positives,\n",
    "        'falseneg': false_negatives,\n",
    "    }"
   ]
  },
  {
   "cell_type": "code",
   "execution_count": 102,
   "id": "e3747a39-e3aa-4e0a-89cb-a4fec664868b",
   "metadata": {},
   "outputs": [
    {
     "name": "stdout",
     "output_type": "stream",
     "text": [
      "True positives: 36\n",
      "False positives: 17\n",
      "False negatives: 10\n",
      "Ground truth count: 46\n"
     ]
    }
   ],
   "source": [
    "def similar(a: str, b: str) -> bool:\n",
    "    a = a.lower()\n",
    "    b = b.lower()\n",
    "    return a == b\n",
    "\n",
    "compare_results = compare_lists(\n",
    "    dedup_response.metabolites,\n",
    "    ground_truth_metabolites,\n",
    "    cmp=similar,\n",
    ")\n",
    "\n",
    "print(f'True positives: {len(compare_results['truepos'])}')\n",
    "print(f'False positives: {len(compare_results['falsepos'])}')\n",
    "print(f'False negatives: {len(compare_results['falseneg'])}')\n",
    "print(f'Ground truth count: {len(ground_truth_metabolites)}')"
   ]
  },
  {
   "cell_type": "markdown",
   "id": "09c7ec81-13f8-4130-98b2-86eab8816bca",
   "metadata": {},
   "source": [
    "### True positives"
   ]
  },
  {
   "cell_type": "code",
   "execution_count": 106,
   "id": "7de363b9-9984-4cb8-9b25-9e197dc81d62",
   "metadata": {},
   "outputs": [
    {
     "name": "stdout",
     "output_type": "stream",
     "text": [
      "acetate\n",
      "arginine\n",
      "ATP\n",
      "betaine\n",
      "carnitine\n",
      "cholesterol ester\n",
      "choline\n",
      "dihydroceramide\n",
      "dimethylglycine\n",
      "dodecanedioic acid\n",
      "formate\n",
      "glucose\n",
      "glutamate\n",
      "histidine\n",
      "homocysteine\n",
      "hydroxypropionylcarnitine\n",
      "hypoxanthine\n",
      "indoxylsulfate\n",
      "lactate\n",
      "leucine\n",
      "lysine\n",
      "methionine\n",
      "NAD\n",
      "NADH\n",
      "Nicotinamide mononucleotide\n",
      "ornithine\n",
      "phosphocholines\n",
      "phosphocreatine\n",
      "pyruvate\n",
      "sarcosine\n",
      "succinate\n",
      "taurine\n",
      "threonine\n",
      "triglycerides\n",
      "valine\n",
      "β-alanine\n"
     ]
    }
   ],
   "source": [
    "print('\\n'.join(compare_results['truepos']))"
   ]
  },
  {
   "cell_type": "markdown",
   "id": "7f2f5206-fd93-45e1-91da-61d011596b0d",
   "metadata": {},
   "source": [
    "### False positives"
   ]
  },
  {
   "cell_type": "code",
   "execution_count": 104,
   "id": "5267f722-dfba-4d4b-9856-49a6b577fa73",
   "metadata": {},
   "outputs": [
    {
     "name": "stdout",
     "output_type": "stream",
     "text": [
      "10-formyl-THF\n",
      "5,10-methylene THF\n",
      "Apolipoprotein A-I\n",
      "betaine aldehyde\n",
      "creatine\n",
      "glycine\n",
      "histamine\n",
      "inosine monophosphate (IMP)\n",
      "kynurenine\n",
      "oxylipins\n",
      "ribose-5-phosphate\n",
      "S-adenosylhomocysteine (SAH)\n",
      "S-adenosylmethionine (SAM)\n",
      "serine\n",
      "tetrahydrofolate (THF)\n",
      "uric acid\n",
      "xanthine\n"
     ]
    }
   ],
   "source": [
    "print('\\n'.join(compare_results['falsepos']))"
   ]
  },
  {
   "cell_type": "markdown",
   "id": "0695932b-7ee3-4342-9685-6859e98cb8df",
   "metadata": {},
   "source": [
    "### False negatives"
   ]
  },
  {
   "cell_type": "code",
   "execution_count": 105,
   "id": "97e156ce-384e-42bf-ab75-cd7dda43ac48",
   "metadata": {},
   "outputs": [
    {
     "name": "stdout",
     "output_type": "stream",
     "text": [
      "fatty acids\n",
      "unsaturated fatty acid\n",
      "branched chain amino acids\n",
      "cholesterol ester 20:0\n",
      "phosphatidylcholine\n",
      "s-adenosylmethionine\n",
      "s-adenosylhomocysteine\n",
      "iron-sulfur clusters\n",
      "oxylipin\n",
      "reactive oxygen species\n"
     ]
    }
   ],
   "source": [
    "print('\\n'.join(compare_results['falseneg']))"
   ]
  },
  {
   "cell_type": "markdown",
   "id": "74291c88-7618-436c-9614-a5f4fb5ec9d8",
   "metadata": {},
   "source": [
    "## Analysis\n",
    "\n",
    "- Some false negatives were actually found (e.g. s-adenosylmethionine, oxylipin). This is a result of a naive text similarity comparison approach.\n",
    "- Chunking by page could potentially miss multi-word metabolites that straddle a page break. Chunking by paragraph or sentence is more ideal, but the PDF text extraction output doesn't support such chunking reliably.\n",
    "- Smaller chunking might help pare down the false negatives list."
   ]
  }
 ],
 "metadata": {
  "kernelspec": {
   "display_name": "Python 3 (ipykernel)",
   "language": "python",
   "name": "python3"
  },
  "language_info": {
   "codemirror_mode": {
    "name": "ipython",
    "version": 3
   },
   "file_extension": ".py",
   "mimetype": "text/x-python",
   "name": "python",
   "nbconvert_exporter": "python",
   "pygments_lexer": "ipython3",
   "version": "3.13.0"
  }
 },
 "nbformat": 4,
 "nbformat_minor": 5
}
