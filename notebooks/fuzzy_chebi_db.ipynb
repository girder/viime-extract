{
 "cells": [
  {
   "cell_type": "code",
   "execution_count": 5,
   "id": "a8873435-9780-4c76-962f-96d405152126",
   "metadata": {},
   "outputs": [
    {
     "name": "stdout",
     "output_type": "stream",
     "text": [
      "Collecting jaro-winkler\n",
      "  Downloading jaro_winkler-2.0.3-py3-none-any.whl.metadata (2.6 kB)\n",
      "Downloading jaro_winkler-2.0.3-py3-none-any.whl (33 kB)\n",
      "Installing collected packages: jaro-winkler\n",
      "Successfully installed jaro-winkler-2.0.3\n",
      "\n",
      "\u001b[1m[\u001b[0m\u001b[34;49mnotice\u001b[0m\u001b[1;39;49m]\u001b[0m\u001b[39;49m A new release of pip is available: \u001b[0m\u001b[31;49m24.2\u001b[0m\u001b[39;49m -> \u001b[0m\u001b[32;49m25.0.1\u001b[0m\n",
      "\u001b[1m[\u001b[0m\u001b[34;49mnotice\u001b[0m\u001b[1;39;49m]\u001b[0m\u001b[39;49m To update, run: \u001b[0m\u001b[32;49mpython3.13 -m pip install --upgrade pip\u001b[0m\n",
      "Note: you may need to restart the kernel to use updated packages.\n"
     ]
    }
   ],
   "source": [
    "%pip install jaro-winkler"
   ]
  },
  {
   "cell_type": "code",
   "execution_count": 7,
   "id": "0a56d2fe-2661-451b-9605-ddb865d4a14d",
   "metadata": {},
   "outputs": [],
   "source": [
    "import csv\n",
    "import heapq\n",
    "import jaro"
   ]
  },
  {
   "cell_type": "code",
   "execution_count": 3,
   "id": "f21ff79b-a10a-4fb2-9dfa-3a1ec96737ed",
   "metadata": {},
   "outputs": [],
   "source": [
    "with open('names.tsv', 'r', encoding='utf-8') as fp:\n",
    "    reader = csv.DictReader(fp, delimiter='\\t')\n",
    "    NAMES = [row for row in reader]"
   ]
  },
  {
   "cell_type": "code",
   "execution_count": 9,
   "id": "7a220574-b84e-47eb-b1e8-05b97b2206cb",
   "metadata": {},
   "outputs": [
    {
     "data": {
      "text/plain": [
       "{'ID': '10952',\n",
       " 'COMPOUND_ID': '16478',\n",
       " 'TYPE': 'SYNONYM',\n",
       " 'SOURCE': 'KEGG COMPOUND',\n",
       " 'NAME': 'N-Acetyl-beta-D-glucosaminyl-1,6-(N-acetyl-beta-D-glucosaminyl-1,3)-N-acetyl-D-galactosaminyl-R',\n",
       " 'ADAPTED': 'F',\n",
       " 'LANGUAGE': 'en'}"
      ]
     },
     "execution_count": 9,
     "metadata": {},
     "output_type": "execute_result"
    }
   ],
   "source": [
    "NAMES[0]"
   ]
  },
  {
   "cell_type": "code",
   "execution_count": 19,
   "id": "3ca28ca1-33d8-4345-83fd-67f42301e57b",
   "metadata": {},
   "outputs": [
    {
     "name": "stdout",
     "output_type": "stream",
     "text": [
      "(0.9777777777777777, 'oxylipins', '61121')\n",
      "(0.8916666666666667, 'oxyluciferin', '190290')\n",
      "(0.8725, 'o-xylidine', '28738')\n",
      "(0.8696969696969696, 'oxaliplatin', '31941')\n",
      "(0.8693121693121693, 'oxilapine', '50841')\n",
      "(0.8674999999999999, 'oxyphyllin', '94764')\n",
      "(0.8674999999999999, 'oxypetidin', '135085')\n",
      "(0.8555555555555556, 'oxaliplatino', '31941')\n",
      "(0.8555555555555556, 'oxaliplatine', '31941')\n",
      "(0.8541666666666666, 'oxy', '29354')\n"
     ]
    }
   ],
   "source": [
    "query = 'oxylipin'\n",
    "heap = []\n",
    "for name in NAMES:\n",
    "    m = jaro.jaro_winkler_metric(query, name['NAME'])\n",
    "    heapq.heappush(heap, (m, name['NAME'], name['COMPOUND_ID']))\n",
    "    if len(heap) > 10:\n",
    "        heapq.heappop(heap)\n",
    "\n",
    "for i in [heapq.heappop(heap) for _ in range(len(heap))][::-1]:\n",
    "    print(i)"
   ]
  }
 ],
 "metadata": {
  "kernelspec": {
   "display_name": "Python 3 (ipykernel)",
   "language": "python",
   "name": "python3"
  },
  "language_info": {
   "codemirror_mode": {
    "name": "ipython",
    "version": 3
   },
   "file_extension": ".py",
   "mimetype": "text/x-python",
   "name": "python",
   "nbconvert_exporter": "python",
   "pygments_lexer": "ipython3",
   "version": "3.13.2"
  }
 },
 "nbformat": 4,
 "nbformat_minor": 5
}
